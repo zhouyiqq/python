﻿{
 "cells": [
  {
   "cell_type": "code",
   "execution_count": 2,
   "metadata": {
    "collapsed": true
   },
   "outputs": [],
   "source": [
    "#coding=gbk\n",
    "# 代码仓库 was created by zy on 2022/3/3 20:17\n",
    "import sqlite3\n",
    "# 创建与数据库的连接\n",
    "conn = sqlite3.connect('test.db')\n",
    "#在内存中创建数据库\n",
    "# conn = sqlite3.connect(':memory:')\n",
    "#创建一个游标 cursor"
   ]
  },
  {
   "cell_type": "code",
   "execution_count": 3,
   "outputs": [],
   "source": [
    "cur = conn.cursor()# 建表的sql语句\n",
    "sql_text_1 = '''CREATE TABLE scores\n",
    "           (姓名 TEXT,\n",
    "            班级 TEXT,\n",
    "            性别 TEXT,\n",
    "            语文 NUMBER,\n",
    "            数学 NUMBER,\n",
    "            英语 NUMBER);'''"
   ],
   "metadata": {
    "collapsed": false,
    "pycharm": {
     "name": "#%%\n"
    }
   }
  },
  {
   "cell_type": "code",
   "execution_count": 4,
   "outputs": [
    {
     "data": {
      "text/plain": "<sqlite3.Cursor at 0x290f86cee30>"
     },
     "execution_count": 4,
     "metadata": {},
     "output_type": "execute_result"
    }
   ],
   "source": [
    "# 执行sql语句\n",
    "cur.execute(sql_text_1)"
   ],
   "metadata": {
    "collapsed": false,
    "pycharm": {
     "name": "#%%\n"
    }
   }
  },
  {
   "cell_type": "code",
   "execution_count": 5,
   "outputs": [
    {
     "data": {
      "text/plain": "<sqlite3.Cursor at 0x290f86cee30>"
     },
     "execution_count": 5,
     "metadata": {},
     "output_type": "execute_result"
    }
   ],
   "source": [
    "# 插入单条数据\n",
    "sql_text_2 = \"INSERT INTO scores VALUES('A', '一班', '男', 96, 94, 98)\"\n",
    "cur.execute(sql_text_2)"
   ],
   "metadata": {
    "collapsed": false,
    "pycharm": {
     "name": "#%%\n"
    }
   }
  },
  {
   "cell_type": "code",
   "execution_count": 6,
   "outputs": [],
   "source": [
    "#插入多条数据\n",
    "data = [('B', '一班', '女', 78, 87, 85),\n",
    "        ('C', '一班', '男', 98, 84, 90),\n",
    "        ]"
   ],
   "metadata": {
    "collapsed": false,
    "pycharm": {
     "name": "#%%\n"
    }
   }
  },
  {
   "cell_type": "code",
   "execution_count": null,
   "outputs": [],
   "source": [
    "cur.executemany('INSERT INTO scores VALUES (?,?,?,?,?,?)', data)\n",
    "# 连接完数据库并不会自动提交，所以需要手动 commit 你的改动conn.commit()"
   ],
   "metadata": {
    "collapsed": false,
    "pycharm": {
     "name": "#%%\n"
    }
   }
  },
  {
   "cell_type": "code",
   "execution_count": 7,
   "outputs": [
    {
     "data": {
      "text/plain": "<sqlite3.Cursor at 0x290f86cee30>"
     },
     "execution_count": 7,
     "metadata": {},
     "output_type": "execute_result"
    }
   ],
   "source": [
    "# 查询数学成绩大于90分的学生\n",
    "sql_text_3 = \"SELECT * FROM scores WHERE 数学>90\"\n",
    "cur.execute(sql_text_3)"
   ],
   "metadata": {
    "collapsed": false,
    "pycharm": {
     "name": "#%%\n"
    }
   }
  },
  {
   "cell_type": "code",
   "execution_count": null,
   "outputs": [],
   "source": [
    "# 获取查询结果\n",
    "cur.fetchall()"
   ],
   "metadata": {
    "collapsed": false,
    "pycharm": {
     "name": "#%%\n"
    }
   }
  },
  {
   "cell_type": "code",
   "execution_count": null,
   "outputs": [],
   "source": [
    "# 提交改动的方法\n",
    "conn.commit()\n",
    "# 关闭游标\n",
    "cur.close()\n",
    "# 关闭连接\n",
    "conn.close()"
   ],
   "metadata": {
    "collapsed": false,
    "pycharm": {
     "name": "#%%\n"
    }
   }
  }
 ],
 "metadata": {
  "kernelspec": {
   "name": "pycharm-667d4e39",
   "language": "python",
   "display_name": "PyCharm (代码仓库)"
  },
  "language_info": {
   "codemirror_mode": {
    "name": "ipython",
    "version": 2
   },
   "file_extension": ".py",
   "mimetype": "text/x-python",
   "name": "python",
   "nbconvert_exporter": "python",
   "pygments_lexer": "ipython2",
   "version": "2.7.6"
  }
 },
 "nbformat": 4,
 "nbformat_minor": 0
}