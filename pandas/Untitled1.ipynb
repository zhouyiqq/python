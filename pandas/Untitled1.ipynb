{
 "cells": [
  {
   "cell_type": "code",
   "execution_count": 1,
   "metadata": {},
   "outputs": [],
   "source": [
    "import pandas as pd\n",
    "import numpy as np\n",
    "import matplotlib.pyplot as plt\n",
    "import matplotlib as mpl"
   ]
  },
  {
   "cell_type": "code",
   "execution_count": 2,
   "metadata": {},
   "outputs": [
    {
     "name": "stdout",
     "output_type": "stream",
     "text": [
      "5.0%     15\n",
      "4.0%     11\n",
      "8.0%      9\n",
      "7.0%      9\n",
      "20.0%     8\n",
      "22.0%     8\n",
      "19.0%     8\n",
      "3.0%      8\n",
      "2.0%      7\n",
      "33.0%     5\n",
      "0.03      5\n",
      "24.0%     5\n",
      "66.0%     5\n",
      "21.0%     5\n",
      "17.0%     5\n",
      "0.0%      5\n",
      "13.0%     5\n",
      "10.0%     4\n",
      "12.0%     4\n",
      "6.0%      4\n",
      "58.0%     4\n",
      "26.0%     3\n",
      "56.0%     3\n",
      "23.0%     3\n",
      "47.0%     3\n",
      "48.0%     3\n",
      "31.0%     2\n",
      "64.0%     2\n",
      "16.0%     2\n",
      "1.0%      2\n",
      "70.0%     2\n",
      "71.0%     2\n",
      "90.0%     2\n",
      "27.0%     2\n",
      "65.0%     2\n",
      "14.0%     2\n",
      "59.0%     2\n",
      "78.0%     2\n",
      "68.0%     2\n",
      "72.0%     2\n",
      "46.0%     2\n",
      "11.0%     2\n",
      "74.0%     1\n",
      "15.0%     1\n",
      "29.0%     1\n",
      "80.0%     1\n",
      "85.0%     1\n",
      "49.0%     1\n",
      "35.0%     1\n",
      "42.0%     1\n",
      "81.0%     1\n",
      "83.0%     1\n",
      "87.0%     1\n",
      "99.0%     1\n",
      "92.0%     1\n",
      "18.0%     1\n",
      "37.0%     1\n",
      "38.0%     1\n",
      "63.0%     1\n",
      "67.0%     1\n",
      "55.0%     1\n",
      "77.0%     1\n",
      "94.0%     1\n",
      "88.0%     1\n",
      "62.0%     1\n",
      "57.0%     1\n",
      "30.0%     1\n",
      "41.0%     1\n",
      "51.0%     1\n",
      "9.0%      1\n",
      "76.0%     1\n",
      "28.0%     1\n",
      "69.0%     1\n",
      "25.0%     1\n",
      "34.0%     1\n"
     ]
    }
   ],
   "source": [
    "mpl.rcParams['font.sans-serif'] = ['SimHei']    # 指定默认字体\n",
    "mpl.rcParams['font.serif'] = ['SimHei']\n",
    "mpl.rcParams['axes.unicode_minus'] = False\n",
    "df = pd.read_excel(\"服务器运行情况表.xlsx\",sheet_name=\"主机信息\",index_col=0)\n",
    "name = \"最近两周内存使用率峰值(%)\"\n",
    "print(df[name].value_counts().to_string())"
   ]
  },
  {
   "cell_type": "code",
   "execution_count": null,
   "metadata": {},
   "outputs": [],
   "source": []
  }
 ],
 "metadata": {
  "kernelspec": {
   "display_name": "Python 3",
   "language": "python",
   "name": "python3"
  },
  "language_info": {
   "codemirror_mode": {
    "name": "ipython",
    "version": 3
   },
   "file_extension": ".py",
   "mimetype": "text/x-python",
   "name": "python",
   "nbconvert_exporter": "python",
   "pygments_lexer": "ipython3",
   "version": "3.7.4"
  }
 },
 "nbformat": 4,
 "nbformat_minor": 2
}
