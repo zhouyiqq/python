{
 "cells": [
  {
   "cell_type": "code",
   "execution_count": 1,
   "metadata": {},
   "outputs": [
    {
     "name": "stdout",
     "output_type": "stream",
     "text": [
      " 驱动器 C 中的卷是 系统\n",
      " 卷的序列号是 0A57-F39E\n",
      "\n",
      " C:\\Users\\zy\\PycharmProjects\\pythonProject1\\pandas 的目录\n",
      "\n",
      "2021/11/20  16:22    <DIR>          .\n",
      "2021/11/20  16:22    <DIR>          ..\n",
      "2021/11/20  16:20    <DIR>          .idea\n",
      "2021/11/20  16:22    <DIR>          .ipynb_checkpoints\n",
      "2021/11/20  15:58               443 main.py\n",
      "2021/11/20  13:57            32,823 nba.csv\n",
      "2021/11/20  14:36               137 site.csv\n",
      "2021/11/20  14:48               329 sites.json\n",
      "2021/11/20  15:43               352 test.csv\n",
      "2021/11/20  16:22                72 Untitled.ipynb\n",
      "               6 个文件         34,156 字节\n",
      "               4 个目录 24,688,394,240 可用字节\n"
     ]
    }
   ],
   "source": [
    "ls"
   ]
  },
  {
   "cell_type": "code",
   "execution_count": 2,
   "metadata": {},
   "outputs": [
    {
     "name": "stdout",
     "output_type": "stream",
     "text": [
      "[WinError 267] 目录名称无效。: 'main.py'\n",
      "C:\\Users\\zy\\PycharmProjects\\pythonProject1\\pandas\n"
     ]
    }
   ],
   "source": [
    "cd main.py"
   ]
  },
  {
   "cell_type": "code",
   "execution_count": 3,
   "metadata": {},
   "outputs": [
    {
     "ename": "SyntaxError",
     "evalue": "invalid syntax (<ipython-input-3-a5b85dd88f47>, line 1)",
     "output_type": "error",
     "traceback": [
      "\u001b[1;36m  File \u001b[1;32m\"<ipython-input-3-a5b85dd88f47>\"\u001b[1;36m, line \u001b[1;32m1\u001b[0m\n\u001b[1;33m    python main.py\u001b[0m\n\u001b[1;37m              ^\u001b[0m\n\u001b[1;31mSyntaxError\u001b[0m\u001b[1;31m:\u001b[0m invalid syntax\n"
     ]
    }
   ],
   "source": [
    "python main.py"
   ]
  },
  {
   "cell_type": "code",
   "execution_count": 5,
   "metadata": {},
   "outputs": [
    {
     "name": "stdout",
     "output_type": "stream",
     "text": [
      "5       7.0\n",
      "2      10.0\n",
      "13     13.0\n",
      "1      38.0\n",
      "9      44.0\n",
      "3      54.0\n",
      "4      65.0\n",
      "10    108.0\n",
      "0     123.0\n",
      "14    123.0\n",
      "7     156.0\n",
      "6     157.0\n",
      "8       NaN\n",
      "11      NaN\n",
      "12      NaN\n",
      "15      NaN\n",
      "16      NaN\n",
      "17      NaN\n",
      "18      NaN\n",
      "19      NaN\n",
      "20      NaN\n",
      "21      NaN\n",
      "22      NaN\n",
      "Name: 外接矩形切分分区数A, dtype: float64\n"
     ]
    }
   ],
   "source": [
    "import pandas as pd\n",
    "\n",
    "df = pd.read_csv('test.csv')\n",
    "\n",
    "print(df[\"外接矩形切分分区数A\"].sort_values())"
   ]
  },
  {
   "cell_type": "code",
   "execution_count": null,
   "metadata": {},
   "outputs": [],
   "source": []
  }
 ],
 "metadata": {
  "kernelspec": {
   "display_name": "Python 3",
   "language": "python",
   "name": "python3"
  },
  "language_info": {
   "codemirror_mode": {
    "name": "ipython",
    "version": 3
   },
   "file_extension": ".py",
   "mimetype": "text/x-python",
   "name": "python",
   "nbconvert_exporter": "python",
   "pygments_lexer": "ipython3",
   "version": "3.7.4"
  }
 },
 "nbformat": 4,
 "nbformat_minor": 2
}
