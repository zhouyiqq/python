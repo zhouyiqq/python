{
 "cells": [
  {
   "cell_type": "markdown",
   "source": [
    "在忘记密码但是未锁定时：\n",
    "打开cmd（命令提示符），输入net user 用户名 密码\n",
    "这个命令，即为改密码，不需要原密码。"
   ],
   "metadata": {
    "collapsed": false,
    "pycharm": {
     "name": "#%% md\n"
    }
   }
  }
 ],
 "metadata": {
  "kernelspec": {
   "display_name": "Python 3",
   "language": "python",
   "name": "python3"
  },
  "language_info": {
   "codemirror_mode": {
    "name": "ipython",
    "version": 2
   },
   "file_extension": ".py",
   "mimetype": "text/x-python",
   "name": "python",
   "nbconvert_exporter": "python",
   "pygments_lexer": "ipython2",
   "version": "2.7.6"
  }
 },
 "nbformat": 4,
 "nbformat_minor": 0
}